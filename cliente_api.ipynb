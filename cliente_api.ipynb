{
  "nbformat": 4,
  "nbformat_minor": 0,
  "metadata": {
    "colab": {
      "provenance": []
    },
    "kernelspec": {
      "name": "python3",
      "display_name": "Python 3"
    },
    "language_info": {
      "name": "python"
    }
  },
  "cells": [
    {
      "cell_type": "code",
      "execution_count": 2,
      "metadata": {
        "colab": {
          "base_uri": "https://localhost:8080/"
        },
        "id": "3C3rTSKuTLP7",
        "outputId": "1ec32dc6-04f0-4ffb-b009-4a40eedcb1eb"
      },
      "outputs": [
        {
          "output_type": "stream",
          "name": "stdout",
          "text": [
            "5.34\n",
            "<Response [200]>\n"
          ]
        }
      ],
      "source": [
        "import requests \n",
        "\n",
        "x = requests.get('http://fa41-34-80-38-50.ngrok.io/cotacao/')\n",
        "\n",
        "print(x.text)\n",
        "print(x)"
      ]
    },
    {
      "cell_type": "code",
      "source": [
        "import requests \n",
        "\n",
        "x = requests.get('http://6bad-34-80-38-50.ngrok.io')\n",
        "\n",
        "print(x.text)"
      ],
      "metadata": {
        "colab": {
          "base_uri": "https://localhost:8080/"
        },
        "id": "NinTQQtQVs9J",
        "outputId": "fc3b1d23-8c85-4fd0-cd7c-9d1bdd4bb8dd"
      },
      "execution_count": 5,
      "outputs": [
        {
          "output_type": "stream",
          "name": "stdout",
          "text": [
            "Escolha um dos métodos\n"
          ]
        }
      ]
    },
    {
      "cell_type": "code",
      "source": [
        "import requests \n",
        "\n",
        "x = requests.get('http://38b3-34-80-38-50.ngrok.io/conversao/23.5')\n",
        "\n",
        "print(x.text)"
      ],
      "metadata": {
        "colab": {
          "base_uri": "https://localhost:8080/"
        },
        "id": "Oa_baLG5WzvK",
        "outputId": "accfa6b5-bfcc-450a-e829-cb5eabc3c150"
      },
      "execution_count": 9,
      "outputs": [
        {
          "output_type": "stream",
          "name": "stdout",
          "text": [
            "125.49\n"
          ]
        }
      ]
    },
    {
      "cell_type": "code",
      "source": [
        "import requests \n",
        "\n",
        "x = requests.get('http://a838-34-80-38-50.ngrok.io/cotacaocompleta?valor=100&mes=Janeiro')\n",
        "\n",
        "print(x.text)"
      ],
      "metadata": {
        "id": "nBr7wIsUYVVx"
      },
      "execution_count": null,
      "outputs": []
    },
    {
      "cell_type": "code",
      "source": [
        "import requests \n",
        "\n",
        "x = requests.get('http://365b-34-80-38-50.ngrok.io/tabela/')\n",
        "\n",
        "print(x.text)"
      ],
      "metadata": {
        "colab": {
          "base_uri": "https://localhost:8080/"
        },
        "id": "pd_GpR4uaMWW",
        "outputId": "22158e62-bcb5-4025-d28a-adef7ec8afd1"
      },
      "execution_count": 15,
      "outputs": [
        {
          "output_type": "stream",
          "name": "stdout",
          "text": [
            "{\"Fevereiro\":\"5.22\",\"Janeiro\":\"5.34\",\"Marco\":\"5.19\"}\n",
            "\n"
          ]
        }
      ]
    }
  ]
}