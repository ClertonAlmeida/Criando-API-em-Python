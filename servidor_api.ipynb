{
  "nbformat": 4,
  "nbformat_minor": 0,
  "metadata": {
    "colab": {
      "provenance": []
    },
    "kernelspec": {
      "name": "python3",
      "display_name": "Python 3"
    },
    "language_info": {
      "name": "python"
    }
  },
  "cells": [
    {
      "cell_type": "code",
      "execution_count": null,
      "metadata": {
        "id": "aMPvHZkEPrLH"
      },
      "outputs": [],
      "source": [
        "!pip install flask_ngrok"
      ]
    },
    {
      "cell_type": "code",
      "source": [
        "!pip install pyngrok"
      ],
      "metadata": {
        "id": "ZQrwXyNMTU30"
      },
      "execution_count": null,
      "outputs": []
    },
    {
      "cell_type": "code",
      "source": [
        "!ngrok authtoken '2NbmsAXALkPz3g4KPW1FOIREhDs_6XVc53ngb6y3c5bDhEhAb'"
      ],
      "metadata": {
        "colab": {
          "base_uri": "https://localhost:8080/"
        },
        "id": "ppKidtLXTZDE",
        "outputId": "d428c157-461e-4b1c-d140-97096c339300"
      },
      "execution_count": 3,
      "outputs": [
        {
          "output_type": "stream",
          "name": "stdout",
          "text": [
            "Authtoken saved to configuration file: /root/.ngrok2/ngrok.yml\n"
          ]
        }
      ]
    },
    {
      "cell_type": "code",
      "source": [
        "from flask import jsonify, Flask, request\n",
        "from flask_ngrok import run_with_ngrok"
      ],
      "metadata": {
        "id": "iUANSiaVTnV9"
      },
      "execution_count": 4,
      "outputs": []
    },
    {
      "cell_type": "code",
      "source": [
        "app = Flask(__name__)\n",
        "run_with_ngrok(app)\n",
        "\n",
        "@app.route('/')\n",
        "def padrao():\n",
        "  return \"Escolha um dos métodos\"\n",
        "\n",
        "@app.route('/cotacao/')\n",
        "def cotacao():\n",
        "  return '5.34'\n",
        "\n",
        "@app.route('/conversao/<float:val>')\n",
        "def conversao(val):\n",
        "  return str(val * 5.34)\n",
        "\n",
        "@app.route('/cotacaocompleta', methods=['GET'])\n",
        "def cotacaocompleta():\n",
        "  argumentos = request.args\n",
        "  valor = float(argumentos.get('valor'))\n",
        "  mes = argumentos.get('mes')\n",
        "\n",
        "  total = 0.0\n",
        "  if mes == 'Janeiro':\n",
        "    total = valor * 5.34\n",
        "  elif mes == 'Fevereiro':\n",
        "    total = valor * 5.22\n",
        "  elif mes == 'Marco':\n",
        "    total = valor * 5.19\n",
        "  \n",
        "  return str(total)\n",
        "\n",
        "@app.route('/tabela/')\n",
        "def tabela():\n",
        "  return jsonify(Janeiro='5.34', Fevereiro='5.22', Marco='5.19')\n",
        "\n",
        "\n",
        "app.run()"
      ],
      "metadata": {
        "colab": {
          "base_uri": "https://localhost:8080/"
        },
        "id": "tpfiheRVTyFk",
        "outputId": "07b63815-cfe3-4ce3-dea1-639f8bc82bd5"
      },
      "execution_count": 11,
      "outputs": [
        {
          "output_type": "stream",
          "name": "stdout",
          "text": [
            " * Serving Flask app '__main__'\n",
            " * Debug mode: off\n"
          ]
        },
        {
          "output_type": "stream",
          "name": "stderr",
          "text": [
            "INFO:werkzeug:\u001b[31m\u001b[1mWARNING: This is a development server. Do not use it in a production deployment. Use a production WSGI server instead.\u001b[0m\n",
            " * Running on http://127.0.0.1:5000\n",
            "INFO:werkzeug:\u001b[33mPress CTRL+C to quit\u001b[0m\n"
          ]
        },
        {
          "output_type": "stream",
          "name": "stdout",
          "text": [
            " * Running on http://365b-34-80-38-50.ngrok.io\n",
            " * Traffic stats available on http://127.0.0.1:4040\n"
          ]
        },
        {
          "output_type": "stream",
          "name": "stderr",
          "text": [
            "INFO:werkzeug:127.0.0.1 - - [27/Mar/2023 18:55:48] \"GET /tabela/ HTTP/1.1\" 200 -\n"
          ]
        }
      ]
    },
    {
      "cell_type": "code",
      "source": [],
      "metadata": {
        "id": "O1fJH8RWT21a"
      },
      "execution_count": null,
      "outputs": []
    }
  ]
}